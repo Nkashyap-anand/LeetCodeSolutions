{
  "nbformat": 4,
  "nbformat_minor": 0,
  "metadata": {
    "colab": {
      "name": "project.ipynb",
      "provenance": [],
      "collapsed_sections": [],
      "mount_file_id": "1e0H2OFhaQKdJY0rh70VwYmPnkz_qu0TA",
      "authorship_tag": "ABX9TyPLzIiCAa7YUQMr1SP0eYsu",
      "include_colab_link": true
    },
    "kernelspec": {
      "name": "python3",
      "display_name": "Python 3"
    },
    "language_info": {
      "name": "python"
    }
  },
  "cells": [
    {
      "cell_type": "markdown",
      "metadata": {
        "id": "view-in-github",
        "colab_type": "text"
      },
      "source": [
        "<a href=\"https://colab.research.google.com/github/Nkashyap-anand/LeetCodeSolutions/blob/main/project.ipynb\" target=\"_parent\"><img src=\"https://colab.research.google.com/assets/colab-badge.svg\" alt=\"Open In Colab\"/></a>"
      ]
    },
    {
      "cell_type": "code",
      "execution_count": 27,
      "metadata": {
        "id": "x7br0hKRaIy3"
      },
      "outputs": [],
      "source": [
        "import numpy as np\n",
        "\n",
        "import torch\n",
        "from torchvision import datasets, transforms"
      ]
    },
    {
      "cell_type": "code",
      "source": [
        "dataset = datasets.ImageFolder('/content/drive/MyDrive/dataset')"
      ],
      "metadata": {
        "id": "A_u1zz2jhpVR"
      },
      "execution_count": 28,
      "outputs": []
    },
    {
      "cell_type": "code",
      "source": [
        "dataloader = torch.utils.data.DataLoader(dataset, batch_size=32, shuffle=True)"
      ],
      "metadata": {
        "id": "cPHUW9KpxT5y"
      },
      "execution_count": 29,
      "outputs": []
    },
    {
      "cell_type": "code",
      "source": [
        "len(dataset)"
      ],
      "metadata": {
        "colab": {
          "base_uri": "https://localhost:8080/"
        },
        "id": "QGULPw5Iy5hf",
        "outputId": "3f6e23df-86f5-48cb-ee2e-22225038a7d3"
      },
      "execution_count": 30,
      "outputs": [
        {
          "output_type": "execute_result",
          "data": {
            "text/plain": [
              "4800"
            ]
          },
          "metadata": {},
          "execution_count": 30
        }
      ]
    },
    {
      "cell_type": "code",
      "source": [
        "dataset[0]"
      ],
      "metadata": {
        "colab": {
          "base_uri": "https://localhost:8080/"
        },
        "id": "eAT7X1zR0KC9",
        "outputId": "55aaa8ec-a22b-45a6-a3bb-b915a1562272"
      },
      "execution_count": 31,
      "outputs": [
        {
          "output_type": "execute_result",
          "data": {
            "text/plain": [
              "(<PIL.Image.Image image mode=RGB size=512x512 at 0x7F44B1B414D0>, 0)"
            ]
          },
          "metadata": {},
          "execution_count": 31
        }
      ]
    },
    {
      "cell_type": "code",
      "source": [
        "import matplotlib.pyplot as plt\n",
        "%matplotlib inline"
      ],
      "metadata": {
        "id": "EiZ1vMshzFoY"
      },
      "execution_count": 32,
      "outputs": []
    },
    {
      "cell_type": "code",
      "source": [
        "image, label = dataset[0]\n",
        "plt.imshow(image, cmap='gray')\n",
        "print('Label:', label)"
      ],
      "metadata": {
        "colab": {
          "base_uri": "https://localhost:8080/",
          "height": 286
        },
        "id": "RP8_qS6AzJJn",
        "outputId": "78898136-f176-47e3-a250-3d931e28c2b6"
      },
      "execution_count": 33,
      "outputs": [
        {
          "output_type": "stream",
          "name": "stdout",
          "text": [
            "Label: 0\n"
          ]
        },
        {
          "output_type": "display_data",
          "data": {
            "text/plain": [
              "<Figure size 432x288 with 1 Axes>"
            ],
            "image/png": "[encoded data removed]"
          },
          "metadata": {
            "needs_background": "light"
          }
        }
      ]
    },
    {
      "cell_type": "code",
      "source": [
        "image, label = dataset[5]\n",
        "plt.imshow(image, cmap='gray')\n",
        "print('Label:', label)"
      ],
      "metadata": {
        "colab": {
          "base_uri": "https://localhost:8080/",
          "height": 286
        },
        "id": "Ze9kL0SH1ppg",
        "outputId": "9d609374-b25c-4c2d-e72b-2f37a63724a5"
      },
      "execution_count": 34,
      "outputs": [
        {
          "output_type": "stream",
          "name": "stdout",
          "text": [
            "Label: 0\n"
          ]
        },
        {
          "output_type": "display_data",
          "data": {
            "text/plain": [
              "<Figure size 432x288 with 1 Axes>"
            ],
            "image/png": "[encoded data removed]"
          },
          "metadata": {
            "needs_background": "light"
          }
        }
      ]
    },
    {
      "cell_type": "code",
      "source": [
        "import torchvision.transforms as transforms"
      ],
      "metadata": {
        "id": "og8BYpmm1xqV"
      },
      "execution_count": 35,
      "outputs": []
    },
    {
      "cell_type": "code",
      "source": [
        "dataset = datasets.ImageFolder('/content/drive/MyDrive/dataset', \n",
        "                transform=transforms.ToTensor())"
      ],
      "metadata": {
        "id": "D3p551BW2Cm8"
      },
      "execution_count": 37,
      "outputs": []
    },
    {
      "cell_type": "code",
      "source": [
        "img_tensor, label = dataset[0]\n",
        "print(img_tensor.shape, label)"
      ],
      "metadata": {
        "colab": {
          "base_uri": "https://localhost:8080/"
        },
        "id": "htDCLmRa2eGg",
        "outputId": "9755f611-343c-40f6-caa6-7f0e5cb84554"
      },
      "execution_count": 38,
      "outputs": [
        {
          "output_type": "stream",
          "name": "stdout",
          "text": [
            "torch.Size([3, 512, 512]) 0\n"
          ]
        }
      ]
    },
    {
      "cell_type": "code",
      "source": [
        "#Let's look at some sample values inside the tensor.\n",
        "\n",
        "print(img_tensor[0,10:15,10:15])\n",
        "print(torch.max(img_tensor), torch.min(img_tensor))"
      ],
      "metadata": {
        "colab": {
          "base_uri": "https://localhost:8080/"
        },
        "id": "7LV8x84D2nn1",
        "outputId": "645cdca3-811b-4832-81de-3a912ad2bf02"
      },
      "execution_count": 39,
      "outputs": [
        {
          "output_type": "stream",
          "name": "stdout",
          "text": [
            "tensor([[1., 1., 1., 1., 1.],\n",
            "        [1., 1., 1., 1., 1.],\n",
            "        [1., 1., 1., 1., 1.],\n",
            "        [1., 1., 1., 1., 1.],\n",
            "        [1., 1., 1., 1., 1.]])\n",
            "tensor(1.) tensor(0.)\n"
          ]
        }
      ]
    },
    {
      "cell_type": "code",
      "source": [
        "# Plot the image by passing in the 28x28 matrix\n",
        "plt.imshow(img_tensor[0,10:15,10:15], cmap='gray');"
      ],
      "metadata": {
        "colab": {
          "base_uri": "https://localhost:8080/",
          "height": 265
        },
        "id": "SqYFjC3A2s27",
        "outputId": "84f25ee1-5d78-4e46-f757-cc1f6da81ea5"
      },
      "execution_count": 40,
      "outputs": [
        {
          "output_type": "display_data",
          "data": {
            "text/plain": [
              "<Figure size 432x288 with 1 Axes>"
            ],
            "image/png": "[encoded data removed]"
          },
          "metadata": {
            "needs_background": "light"
          }
        }
      ]
    },
    {
      "cell_type": "markdown",
      "source": [
        "# Training and Validation Datasets\n"
      ],
      "metadata": {
        "id": "PD-xVdBE2zc8"
      }
    },
    {
      "cell_type": "code",
      "source": [
        "from torch.utils.data import random_split\n",
        "\n",
        "train_ds, val_ds, test_ds = random_split(dataset, [3360, 960, 480])\n",
        "len(train_ds), len(val_ds), len(test_ds)"
      ],
      "metadata": {
        "colab": {
          "base_uri": "https://localhost:8080/"
        },
        "id": "dcx4nTuE236D",
        "outputId": "5e87913d-4510-46db-c920-257aa5a0ed66"
      },
      "execution_count": 43,
      "outputs": [
        {
          "output_type": "execute_result",
          "data": {
            "text/plain": [
              "(3360, 960, 480)"
            ]
          },
          "metadata": {},
          "execution_count": 43
        }
      ]
    },
    {
      "cell_type": "code",
      "source": [
        "from torch.utils.data import DataLoader\n",
        "\n",
        "batch_size = 128\n",
        "\n",
        "train_loader = DataLoader(train_ds, batch_size, shuffle=True)\n",
        "val_loader = DataLoader(val_ds, batch_size)"
      ],
      "metadata": {
        "id": "ddQh-hn56eTr"
      },
      "execution_count": 44,
      "outputs": []
    },
    {
      "cell_type": "markdown",
      "source": [
        "# **Model**"
      ],
      "metadata": {
        "id": "SlJoJ2n46hhJ"
      }
    },
    {
      "cell_type": "code",
      "source": [
        "import torch.nn as nn\n",
        "\n",
        "input_size = 100*500\n",
        "img_classes = 4\n",
        "\n",
        "# Logistic regression model\n",
        "model = nn.Linear(input_size, img_classes)"
      ],
      "metadata": {
        "id": "xw6jbEfu6lH6"
      },
      "execution_count": 46,
      "outputs": []
    },
    {
      "cell_type": "code",
      "source": [
        "print(model.weight.shape)\n",
        "model.weight"
      ],
      "metadata": {
        "colab": {
          "base_uri": "https://localhost:8080/"
        },
        "id": "CjRB_eU467ka",
        "outputId": "78e3c7b3-1440-4700-fe69-e5882c515f88"
      },
      "execution_count": 47,
      "outputs": [
        {
          "output_type": "stream",
          "name": "stdout",
          "text": [
            "torch.Size([4, 50000])\n"
          ]
        },
        {
          "output_type": "execute_result",
          "data": {
            "text/plain": [
              "Parameter containing:\n",
              "tensor([[-4.0042e-03,  2.6314e-03,  1.6266e-03,  ..., -3.4143e-03,\n",
              "         -7.6419e-04, -2.8018e-03],\n",
              "        [ 1.8126e-03,  1.9563e-03, -2.5493e-03,  ..., -6.9144e-05,\n",
              "          9.1265e-04, -8.4839e-04],\n",
              "        [-3.8814e-04, -8.0379e-04,  3.5312e-04,  ..., -4.2598e-03,\n",
              "         -1.4906e-03, -1.2350e-03],\n",
              "        [ 8.4683e-04, -2.1482e-03,  7.6944e-04,  ..., -1.3035e-04,\n",
              "          3.7978e-03, -3.6522e-05]], requires_grad=True)"
            ]
          },
          "metadata": {},
          "execution_count": 47
        }
      ]
    },
    {
      "cell_type": "code",
      "source": [
        "print(model.bias.shape)\n",
        "model.bias"
      ],
      "metadata": {
        "colab": {
          "base_uri": "https://localhost:8080/"
        },
        "id": "0odlRpLS6_dQ",
        "outputId": "e99c3ec0-e8ac-4708-fa2f-5f0b514cd4d5"
      },
      "execution_count": 48,
      "outputs": [
        {
          "output_type": "stream",
          "name": "stdout",
          "text": [
            "torch.Size([4])\n"
          ]
        },
        {
          "output_type": "execute_result",
          "data": {
            "text/plain": [
              "Parameter containing:\n",
              "tensor([-0.0002,  0.0041,  0.0003, -0.0030], requires_grad=True)"
            ]
          },
          "metadata": {},
          "execution_count": 48
        }
      ]
    },
    {
      "cell_type": "code",
      "source": [
        "for images, labels in train_loader:\n",
        "    print(labels)\n",
        "    print(images.shape)\n",
        "    #outputs = model(images)\n",
        "    #print(outputs)\n",
        "    break"
      ],
      "metadata": {
        "colab": {
          "base_uri": "https://localhost:8080/"
        },
        "id": "13UgfkC-7EQH",
        "outputId": "a6ec44e7-b1a8-4960-c282-c5b2fc1354bb"
      },
      "execution_count": 52,
      "outputs": [
        {
          "output_type": "stream",
          "name": "stdout",
          "text": [
            "tensor([0, 2, 3, 2, 3, 0, 2, 2, 3, 0, 2, 2, 0, 1, 0, 2, 2, 3, 2, 2, 3, 3, 0, 1,\n",
            "        3, 3, 3, 0, 1, 0, 0, 0, 1, 0, 0, 3, 3, 1, 2, 0, 1, 2, 3, 2, 0, 1, 3, 3,\n",
            "        1, 0, 2, 0, 0, 0, 0, 0, 1, 2, 3, 2, 1, 3, 0, 1, 3, 1, 0, 0, 1, 1, 1, 3,\n",
            "        3, 1, 3, 0, 2, 2, 3, 2, 0, 0, 3, 3, 3, 2, 2, 0, 1, 3, 0, 0, 3, 2, 3, 0,\n",
            "        1, 2, 2, 2, 2, 2, 0, 1, 0, 2, 3, 1, 1, 1, 3, 0, 0, 1, 2, 3, 1, 3, 3, 1,\n",
            "        2, 1, 1, 2, 2, 3, 3, 3])\n",
            "torch.Size([128, 3, 512, 512])\n"
          ]
        }
      ]
    },
    {
      "cell_type": "code",
      "source": [
        "class PosModel(nn.Module):\n",
        "    def __init__(self):\n",
        "        super().__init__()\n",
        "        self.linear = nn.Linear(input_size, img_classes)\n",
        "        \n",
        "    def forward(self, xb):\n",
        "        xb = xb.reshape(-1, 50000)\n",
        "        out = self.linear(xb)\n",
        "        return out\n",
        "    \n",
        "model = PosModel()"
      ],
      "metadata": {
        "id": "ZRB-1EEG82OJ"
      },
      "execution_count": 53,
      "outputs": []
    },
    {
      "cell_type": "code",
      "source": [
        "model.linear"
      ],
      "metadata": {
        "colab": {
          "base_uri": "https://localhost:8080/"
        },
        "id": "ZS224HwwAc3O",
        "outputId": "0bae40d8-fecb-4040-9232-37e7abee4ea0"
      },
      "execution_count": 54,
      "outputs": [
        {
          "output_type": "execute_result",
          "data": {
            "text/plain": [
              "Linear(in_features=50000, out_features=4, bias=True)"
            ]
          },
          "metadata": {},
          "execution_count": 54
        }
      ]
    },
    {
      "cell_type": "code",
      "source": [
        "print(model.linear.weight.shape, model.linear.bias.shape)\n",
        "list(model.parameters())"
      ],
      "metadata": {
        "colab": {
          "base_uri": "https://localhost:8080/"
        },
        "id": "5RI0pH7VAgfz",
        "outputId": "bc59f0d2-d566-4686-d4cb-968ae5a7dce2"
      },
      "execution_count": 55,
      "outputs": [
        {
          "output_type": "stream",
          "name": "stdout",
          "text": [
            "torch.Size([4, 50000]) torch.Size([4])\n"
          ]
        },
        {
          "output_type": "execute_result",
          "data": {
            "text/plain": [
              "[Parameter containing:\n",
              " tensor([[-7.1155e-04,  2.1573e-03,  3.8140e-03,  ..., -3.1685e-03,\n",
              "           1.3654e-04, -2.4248e-03],\n",
              "         [ 3.1389e-03,  8.9937e-04,  3.7737e-03,  ...,  2.6896e-03,\n",
              "           4.4601e-03,  3.1559e-03],\n",
              "         [-3.5684e-03, -3.9508e-03,  8.4570e-04,  ...,  5.5349e-05,\n",
              "          -2.6436e-03, -1.5780e-03],\n",
              "         [ 2.6777e-04, -4.3822e-03,  4.2222e-03,  ...,  4.1858e-03,\n",
              "          -1.6905e-03, -4.4041e-03]], requires_grad=True),\n",
              " Parameter containing:\n",
              " tensor([-0.0007,  0.0011,  0.0037, -0.0021], requires_grad=True)]"
            ]
          },
          "metadata": {},
          "execution_count": 55
        }
      ]
    }
  ]
}